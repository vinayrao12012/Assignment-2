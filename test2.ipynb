{
 "cells": [
  {
   "cell_type": "markdown",
   "id": "be8b1ede-4459-4465-b619-bef8a02d3763",
   "metadata": {},
   "source": [
    "## Q1"
   ]
  },
  {
   "cell_type": "markdown",
   "id": "b2948190-aab2-4c1c-971c-338c7ec3e4a9",
   "metadata": {},
   "source": [
    "Single Line Comments"
   ]
  },
  {
   "cell_type": "code",
   "execution_count": 1,
   "id": "688fe0a5-894d-48ca-90cb-c8cf6712bd21",
   "metadata": {},
   "outputs": [],
   "source": [
    "#This is single line comment"
   ]
  },
  {
   "cell_type": "markdown",
   "id": "ea228134-d6d9-484c-bde9-c0937253b255",
   "metadata": {},
   "source": [
    "Multiline comment"
   ]
  },
  {
   "cell_type": "code",
   "execution_count": 10,
   "id": "1192045b-fbc5-4671-ac12-3546feb485bb",
   "metadata": {},
   "outputs": [
    {
     "name": "stdout",
     "output_type": "stream",
     "text": [
      "Hello\n"
     ]
    }
   ],
   "source": [
    "\"\"\"Hi This is Vinay from chattisgarh,korba\"\"\"\n",
    "print(\"Hello\")"
   ]
  },
  {
   "cell_type": "markdown",
   "id": "8e48f127-a77b-41db-a3c6-0e341789621f",
   "metadata": {},
   "source": [
    "## Q2"
   ]
  },
  {
   "cell_type": "markdown",
   "id": "1dd0df48-672f-440e-b05e-5a6a1585a8a8",
   "metadata": {},
   "source": [
    "Variables- Variables are containers which store data values.Like it can conatin string ,numbers,float,list,dictionary,etc."
   ]
  },
  {
   "cell_type": "code",
   "execution_count": 11,
   "id": "4ec9b43d-4ebe-4c5d-854a-4034280edd8e",
   "metadata": {},
   "outputs": [],
   "source": [
    "name = \"vinay\"\n",
    "i = 100\n",
    "li1 = [1,2,3,4]\n",
    "di1 = {\"name\":\"Vinnu\",\"age\":22}"
   ]
  },
  {
   "cell_type": "markdown",
   "id": "66381584-a948-4a39-ab2b-20218664ef43",
   "metadata": {},
   "source": [
    "## Q3"
   ]
  },
  {
   "cell_type": "markdown",
   "id": "5f8827db-9659-42e2-8453-2f92cb725c10",
   "metadata": {},
   "source": [
    "We can convert one data type to another by using functions like int(),float(),set(),list(),tuple()."
   ]
  },
  {
   "cell_type": "code",
   "execution_count": 12,
   "id": "39aee650-03ea-4fae-803a-69c1cc028a87",
   "metadata": {},
   "outputs": [
    {
     "name": "stdout",
     "output_type": "stream",
     "text": [
      "100\n"
     ]
    }
   ],
   "source": [
    "x = \"100\"\n",
    "x = int(x)\n",
    "print(x)"
   ]
  },
  {
   "cell_type": "code",
   "execution_count": 14,
   "id": "ac4abbd4-ba53-40bc-9050-19b684332be2",
   "metadata": {},
   "outputs": [
    {
     "name": "stdout",
     "output_type": "stream",
     "text": [
      "[1, 2, 3, 4, 5]\n"
     ]
    }
   ],
   "source": [
    "tup1 = (1,2,3,4,5)\n",
    "li1 = list(tup1)\n",
    "print(li1)"
   ]
  },
  {
   "cell_type": "code",
   "execution_count": 15,
   "id": "7bc27061-90c8-44eb-a7c5-a7cd703c86d6",
   "metadata": {},
   "outputs": [
    {
     "name": "stdout",
     "output_type": "stream",
     "text": [
      "{1, 2, 3, 4, 5}\n"
     ]
    }
   ],
   "source": [
    "li2 = [1, 2, 3, 4, 5]\n",
    "set1 = set(li2)\n",
    "print(set1)"
   ]
  },
  {
   "cell_type": "code",
   "execution_count": 17,
   "id": "3a9bc388-b6f4-43a6-99cd-f3eb5ee4ac40",
   "metadata": {},
   "outputs": [
    {
     "name": "stdout",
     "output_type": "stream",
     "text": [
      "50\n"
     ]
    }
   ],
   "source": [
    "y = 50.8778\n",
    "i1 = int(y)\n",
    "print(i1)"
   ]
  },
  {
   "cell_type": "markdown",
   "id": "da1cef2c-b8c0-49a9-a0c2-569f6ead845d",
   "metadata": {},
   "source": [
    "## Q4"
   ]
  },
  {
   "cell_type": "markdown",
   "id": "9bf8ef3a-662c-4dbe-98e2-ec409ecb8e77",
   "metadata": {},
   "source": [
    "The most easiest way to run code in command line is to first open a terminal and type python(after installing python in the system) whatever version you have.And then start coding in the terminal."
   ]
  },
  {
   "cell_type": "markdown",
   "id": "15ecd5ce-f20c-45dd-893c-5e617db36bb0",
   "metadata": {},
   "source": [
    "## Q5"
   ]
  },
  {
   "cell_type": "code",
   "execution_count": 19,
   "id": "e9953754-2729-4f69-9a8c-f165b844ee1f",
   "metadata": {},
   "outputs": [
    {
     "data": {
      "text/plain": [
       "[2, 3]"
      ]
     },
     "execution_count": 19,
     "metadata": {},
     "output_type": "execute_result"
    }
   ],
   "source": [
    "my_list = [1, 2, 3, 4, 5]\n",
    "my_list[1:3]"
   ]
  },
  {
   "cell_type": "markdown",
   "id": "4372975e-c45c-4fb5-b9d4-f27e750b2c1c",
   "metadata": {},
   "source": [
    "## Q6"
   ]
  },
  {
   "cell_type": "markdown",
   "id": "9b7197ab-ae04-4ec1-8536-3c4a3684d336",
   "metadata": {},
   "source": [
    "Complex numbers are the numbers which are represented by real and imaginary both.Any complex number is represented by a+bi."
   ]
  },
  {
   "cell_type": "code",
   "execution_count": 20,
   "id": "227b67c1-566b-47ef-84fd-8da0390de3a7",
   "metadata": {},
   "outputs": [
    {
     "name": "stdout",
     "output_type": "stream",
     "text": [
      "(12+5j)\n",
      "<class 'complex'>\n"
     ]
    }
   ],
   "source": [
    "com_num = 12+5j\n",
    "print(com_num)\n",
    "print(type(com_num))"
   ]
  },
  {
   "cell_type": "markdown",
   "id": "d2e04bf5-95e7-4113-b845-2650218817b5",
   "metadata": {},
   "source": [
    "## Q7"
   ]
  },
  {
   "cell_type": "markdown",
   "id": "a286f859-7d34-49b5-a3e2-e24e10d34324",
   "metadata": {},
   "source": [
    "The simplest way to assign a value to any variable is like this,"
   ]
  },
  {
   "cell_type": "code",
   "execution_count": 21,
   "id": "d3111c69-07e8-4f35-b1f9-e6e1237ca6a5",
   "metadata": {},
   "outputs": [
    {
     "name": "stdout",
     "output_type": "stream",
     "text": [
      "25\n"
     ]
    }
   ],
   "source": [
    "age = 25\n",
    "print(age)"
   ]
  },
  {
   "cell_type": "markdown",
   "id": "9ec649ee-73fb-4778-86cc-ccf4391ad2b0",
   "metadata": {},
   "source": [
    "## Q8"
   ]
  },
  {
   "cell_type": "code",
   "execution_count": 22,
   "id": "38e30c29-8511-44ef-8ce3-b551bbdfa149",
   "metadata": {},
   "outputs": [
    {
     "name": "stdout",
     "output_type": "stream",
     "text": [
      "9.99\n",
      "<class 'float'>\n"
     ]
    }
   ],
   "source": [
    "price = 9.99\n",
    "print(price)\n",
    "print(type(price))"
   ]
  },
  {
   "cell_type": "markdown",
   "id": "003e498b-4b1f-42e7-9125-c21e91be348b",
   "metadata": {},
   "source": [
    "## Q9"
   ]
  },
  {
   "cell_type": "code",
   "execution_count": 23,
   "id": "2f05af47-88b1-4fad-ae68-612cef100e2e",
   "metadata": {},
   "outputs": [
    {
     "name": "stdout",
     "output_type": "stream",
     "text": [
      "M Vinay Rao\n"
     ]
    }
   ],
   "source": [
    "name = \"M Vinay Rao\"\n",
    "print(name)"
   ]
  },
  {
   "cell_type": "markdown",
   "id": "b7b6ce2d-15ef-4708-9da6-75d4013efe45",
   "metadata": {},
   "source": [
    "## Q10"
   ]
  },
  {
   "cell_type": "code",
   "execution_count": 26,
   "id": "c25cab4c-ac23-4b00-84b7-d34fb87c17ce",
   "metadata": {},
   "outputs": [
    {
     "name": "stdout",
     "output_type": "stream",
     "text": [
      "World\n",
      "World\n"
     ]
    }
   ],
   "source": [
    "string = \"Hello, World!\"\n",
    "print(string[7:12])\n",
    "print(string[-6:-1])"
   ]
  },
  {
   "cell_type": "markdown",
   "id": "03412fb5-89c2-45e0-848b-be601cedd2f0",
   "metadata": {},
   "source": [
    "## Q11"
   ]
  },
  {
   "cell_type": "code",
   "execution_count": 27,
   "id": "a2f0a84d-8168-4e6f-9a02-f60325b2e34a",
   "metadata": {},
   "outputs": [
    {
     "name": "stdout",
     "output_type": "stream",
     "text": [
      "False\n"
     ]
    }
   ],
   "source": [
    "is_student = False\n",
    "print(is_student)"
   ]
  },
  {
   "cell_type": "code",
   "execution_count": 30,
   "id": "b2ecb29b-ff65-4b9e-bbd8-512aec901488",
   "metadata": {},
   "outputs": [
    {
     "name": "stdin",
     "output_type": "stream",
     "text": [
      "Are you a student?Type True for yes,False:No False\n"
     ]
    },
    {
     "name": "stdout",
     "output_type": "stream",
     "text": [
      "False\n"
     ]
    }
   ],
   "source": [
    "is_student = input(\"Are you a student?Type True for yes,False:No\")\n",
    "if is_student == True:\n",
    "    print(is_student)\n",
    "else:\n",
    "    print(is_student)"
   ]
  },
  {
   "cell_type": "code",
   "execution_count": null,
   "id": "01c1f62e-4bee-4b19-964c-02f5bf454404",
   "metadata": {},
   "outputs": [],
   "source": []
  }
 ],
 "metadata": {
  "kernelspec": {
   "display_name": "Python 3 (ipykernel)",
   "language": "python",
   "name": "python3"
  },
  "language_info": {
   "codemirror_mode": {
    "name": "ipython",
    "version": 3
   },
   "file_extension": ".py",
   "mimetype": "text/x-python",
   "name": "python",
   "nbconvert_exporter": "python",
   "pygments_lexer": "ipython3",
   "version": "3.10.8"
  }
 },
 "nbformat": 4,
 "nbformat_minor": 5
}
